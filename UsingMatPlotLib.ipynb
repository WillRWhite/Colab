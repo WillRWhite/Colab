{
  "nbformat": 4,
  "nbformat_minor": 0,
  "metadata": {
    "colab": {
      "provenance": [],
      "authorship_tag": "ABX9TyOSb6XuI1lhOM0hI1BaN29N",
      "include_colab_link": true
    },
    "kernelspec": {
      "name": "python3",
      "display_name": "Python 3"
    },
    "language_info": {
      "name": "python"
    }
  },
  "cells": [
    {
      "cell_type": "markdown",
      "metadata": {
        "id": "view-in-github",
        "colab_type": "text"
      },
      "source": [
        "<a href=\"https://colab.research.google.com/github/WillRWhite/Colab/blob/main/UsingMatPlotLib.ipynb\" target=\"_parent\"><img src=\"https://colab.research.google.com/assets/colab-badge.svg\" alt=\"Open In Colab\"/></a>"
      ]
    },
    {
      "cell_type": "code",
      "execution_count": 219,
      "metadata": {
        "id": "s-4iLvTCSRXf"
      },
      "outputs": [],
      "source": [
        "import numpy as np\n",
        "import matplotlib.pyplot as plt\n",
        "\n",
        "# Parameters:\n",
        "# -------------------------------------------\n",
        "# Probability weighting (see below). The\n",
        "# larger the number this finer the weighting\n",
        "q = 5\n",
        "# Number of samples from the data array\n",
        "sample = 1000000\n",
        "#\n",
        "# For samples = 1000000 & q ~> 40, staticial\n",
        "# fluctionations flattern the chart\n",
        "# -------------------------------------------\n",
        "\n",
        "# Array to choose from\n",
        "data = np.array([1,2,3,4,5,6 ])\n",
        "\n",
        "# Probability of selecting a specific element in the array.\n",
        "# Probability of sampling a 3 is (q+1)/(6q+1), for each of the rest it is q/(6q+1).\n",
        "\n",
        "prob = np.array([q/(6*q+1),q/(6*q+1),(q+1)/(6*q+1),q/(6*q+1),q/(6*q+1),q/(6*q+1)])\n",
        "\n",
        "# prob = np.array([1/7,1/7,2/7,1/7,1/7,1/7])\n",
        "# prob = np.array([3/19,3/19,4/19,3/19,3/19,3/19])\n",
        "# prob = np.array([4/25,4/25,5/25,4/25,4/25,4/25])\n",
        "\n",
        "r = np.random.choice(data,size=sample,p=prob)\n",
        "\n",
        "#r = np.random.randint(1,7,sample)\n",
        "#r = np.random.randint(1,7,sample,int)\n",
        "\n"
      ]
    },
    {
      "cell_type": "code",
      "source": [
        "print(r)\n",
        "#print(data)"
      ],
      "metadata": {
        "id": "BRqGLVHHw5mV",
        "outputId": "0efc558e-2d5e-40a2-dd50-42ccde083f84",
        "colab": {
          "base_uri": "https://localhost:8080/"
        }
      },
      "execution_count": 221,
      "outputs": [
        {
          "output_type": "stream",
          "name": "stdout",
          "text": [
            "[6 2 4 ... 3 5 3]\n"
          ]
        }
      ]
    },
    {
      "cell_type": "code",
      "source": [
        "plt.bar(*np.unique(r, return_counts=True))\n",
        "plt.show()"
      ],
      "metadata": {
        "id": "AZP-JvIXxCp3",
        "outputId": "1a66f993-f362-4fe5-de7e-c3b6a3ba44f0",
        "colab": {
          "base_uri": "https://localhost:8080/",
          "height": 430
        }
      },
      "execution_count": 222,
      "outputs": [
        {
          "output_type": "display_data",
          "data": {
            "text/plain": [
              "<Figure size 640x480 with 1 Axes>"
            ],
            "image/png": "[encoded data removed]"
          },
          "metadata": {}
        }
      ]
    }
  ]
}