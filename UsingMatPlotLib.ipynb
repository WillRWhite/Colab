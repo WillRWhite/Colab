{
  "nbformat": 4,
  "nbformat_minor": 0,
  "metadata": {
    "colab": {
      "provenance": [],
      "authorship_tag": "ABX9TyM1Hp2L3dnCAfGY5tF9NdIv",
      "include_colab_link": true
    },
    "kernelspec": {
      "name": "python3",
      "display_name": "Python 3"
    },
    "language_info": {
      "name": "python"
    }
  },
  "cells": [
    {
      "cell_type": "markdown",
      "metadata": {
        "id": "view-in-github",
        "colab_type": "text"
      },
      "source": [
        "<a href=\"https://colab.research.google.com/github/WillRWhite/Colab/blob/main/UsingMatPlotLib.ipynb\" target=\"_parent\"><img src=\"https://colab.research.google.com/assets/colab-badge.svg\" alt=\"Open In Colab\"/></a>"
      ]
    },
    {
      "cell_type": "code",
      "execution_count": 92,
      "metadata": {
        "id": "s-4iLvTCSRXf"
      },
      "outputs": [],
      "source": [
        "import numpy as np\n",
        "import matplotlib.pyplot as plt\n",
        "\n",
        "import numpy as np\n",
        "\n",
        "# Array to choose from\n",
        "data = np.array([1,2,3,4,5,6 ])\n",
        "# Probability of selecting a specific element in the array\n",
        "# Probability of sampling a 3 is 2/7, 1/7 for each of the resat\n",
        "prob = np.array([1/7,1/7,2/7,1/7,1/7,1/7])\n",
        "# Number of samples from the data array\n",
        "sample = 12\n",
        "\n",
        "#r = np.random.randint(1,7,sample)\n",
        "#r = np.random.randint(1,7,sample,int)\n",
        "r = np.random.choice(data,size=sample,p=prob)\n"
      ]
    },
    {
      "cell_type": "code",
      "source": [
        "print(r)\n",
        "#print(data)"
      ],
      "metadata": {
        "id": "BRqGLVHHw5mV"
      },
      "execution_count": null,
      "outputs": []
    },
    {
      "cell_type": "code",
      "source": [
        "plt.bar(*np.unique(r, return_counts=True))\n",
        "plt.show()"
      ],
      "metadata": {
        "id": "AZP-JvIXxCp3"
      },
      "execution_count": null,
      "outputs": []
    }
  ]
}