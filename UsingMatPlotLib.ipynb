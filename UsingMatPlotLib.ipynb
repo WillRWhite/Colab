{
  "nbformat": 4,
  "nbformat_minor": 0,
  "metadata": {
    "colab": {
      "provenance": [],
      "authorship_tag": "ABX9TyPeOc7RmVWrCszkXiKhfbE7",
      "include_colab_link": true
    },
    "kernelspec": {
      "name": "python3",
      "display_name": "Python 3"
    },
    "language_info": {
      "name": "python"
    }
  },
  "cells": [
    {
      "cell_type": "markdown",
      "metadata": {
        "id": "view-in-github",
        "colab_type": "text"
      },
      "source": [
        "<a href=\"https://colab.research.google.com/github/WillRWhite/Colab/blob/experimental/UsingMatPlotLib.ipynb\" target=\"_parent\"><img src=\"https://colab.research.google.com/assets/colab-badge.svg\" alt=\"Open In Colab\"/></a>"
      ]
    },
    {
      "cell_type": "markdown",
      "source": [
        "# Example of Dice Data"
      ],
      "metadata": {
        "id": "3pWq2fardILN"
      }
    },
    {
      "cell_type": "code",
      "execution_count": null,
      "metadata": {
        "id": "s-4iLvTCSRXf"
      },
      "outputs": [],
      "source": [
        "import numpy as np\n",
        "import matplotlib.pyplot as plt\n",
        "\n",
        "# Parameters:\n",
        "# -------------------------------------------\n",
        "# Probability weighting (see below). The\n",
        "# larger the number this finer the weighting\n",
        "q = 5\n",
        "# Number of samples from the data array\n",
        "sample = 1000000\n",
        "#\n",
        "# For samples = 1000000 & q ~> 40, staticial\n",
        "# fluctionations flattern the chart\n",
        "# -------------------------------------------\n",
        "\n",
        "# Array to choose from\n",
        "data = np.array([1,2,3,4,5,6 ])\n",
        "\n",
        "# Probability of selecting a specific element in the array.\n",
        "# Probability of sampling a 3 is (q+1)/(6q+1), for each of the rest it is q/(6q+1).\n",
        "\n",
        "prob = np.array([q/(6*q+1),q/(6*q+1),(q+1)/(6*q+1),q/(6*q+1),q/(6*q+1),q/(6*q+1)])\n",
        "\n",
        "# prob = np.array([1/7,1/7,2/7,1/7,1/7,1/7])\n",
        "# prob = np.array([3/19,3/19,4/19,3/19,3/19,3/19])\n",
        "# prob = np.array([4/25,4/25,5/25,4/25,4/25,4/25])\n",
        "\n",
        "r = np.random.choice(data,size=sample,p=prob)\n",
        "\n",
        "#r = np.random.randint(1,7,sample)\n",
        "#r = np.random.randint(1,7,sample,int)\n",
        "\n"
      ]
    },
    {
      "cell_type": "code",
      "source": [
        "print(r)\n",
        "#print(data)"
      ],
      "metadata": {
        "id": "BRqGLVHHw5mV"
      },
      "execution_count": null,
      "outputs": []
    },
    {
      "cell_type": "code",
      "source": [
        "plt.bar(*np.unique(r, return_counts=True))\n",
        "plt.show()"
      ],
      "metadata": {
        "id": "AZP-JvIXxCp3"
      },
      "execution_count": null,
      "outputs": []
    },
    {
      "cell_type": "markdown",
      "source": [
        "# Example of Higgs Type Data"
      ],
      "metadata": {
        "id": "xDdnr9ylc-cd"
      }
    },
    {
      "cell_type": "code",
      "source": [
        "import numpy as np\n",
        "import matplotlib.pyplot as plt\n",
        "\n",
        "\n",
        "sample = 1000\n",
        "\n",
        "# Array to choose from\n",
        "data = np.array([],dtype=np.int8)\n",
        "\n",
        "# Probability data array\n",
        "prob = np.array([],dtype=np.int8)\n",
        "\n",
        "for i in range(sample):\n",
        "  arrayElement = 50/(i+1)\n",
        "  prob = np.insert(prob,0,arrayElement )\n",
        "\n",
        "\n",
        "for i in range(sample):\n",
        "  arrayElement = np.random.randint(60)\n",
        "  data=np.insert(data,0,arrayElement )\n",
        "\n",
        "#print(arrayElement)\n",
        "#print(myArray)\n",
        "\n"
      ],
      "metadata": {
        "id": "iskm3j2_M-E1"
      },
      "execution_count": 61,
      "outputs": []
    },
    {
      "cell_type": "code",
      "source": [
        "plt.bar(*np.unique(data, return_counts=True))\n",
        "plt.show()"
      ],
      "metadata": {
        "colab": {
          "base_uri": "https://localhost:8080/",
          "height": 430
        },
        "id": "raudDhCbaLEA",
        "outputId": "171f4d10-6b1b-4b5b-ef2a-aa14b290b69d"
      },
      "execution_count": 58,
      "outputs": [
        {
          "output_type": "display_data",
          "data": {
            "text/plain": [
              "<Figure size 640x480 with 1 Axes>"
            ],
            "image/png": "[encoded data removed]"
          },
          "metadata": {}
        }
      ]
    },
    {
      "cell_type": "code",
      "source": [
        "ys = 200 + np.random.randn(100)\n",
        "x = [x for x in range(len(ys))]\n",
        "\n",
        "plt.plot(x, ys, '-')\n",
        "plt.fill_between(x, ys, 195, where=(ys > 195), facecolor='g', alpha=0.6)\n",
        "\n",
        "plt.title(\"Sample Visualization\")\n",
        "plt.show()"
      ],
      "metadata": {
        "id": "l99G9QK4ZaLJ"
      },
      "execution_count": null,
      "outputs": []
    }
  ]
}