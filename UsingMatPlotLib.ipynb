{
  "nbformat": 4,
  "nbformat_minor": 0,
  "metadata": {
    "colab": {
      "provenance": [],
      "authorship_tag": "ABX9TyNs9OkiE+SW/yHbWd19qgoj",
      "include_colab_link": true
    },
    "kernelspec": {
      "name": "python3",
      "display_name": "Python 3"
    },
    "language_info": {
      "name": "python"
    }
  },
  "cells": [
    {
      "cell_type": "markdown",
      "metadata": {
        "id": "view-in-github",
        "colab_type": "text"
      },
      "source": [
        "<a href=\"https://colab.research.google.com/github/WillRWhite/Colab/blob/experimental/UsingMatPlotLib.ipynb\" target=\"_parent\"><img src=\"https://colab.research.google.com/assets/colab-badge.svg\" alt=\"Open In Colab\"/></a>"
      ]
    },
    {
      "cell_type": "markdown",
      "source": [
        "# Example of Dice Data"
      ],
      "metadata": {
        "id": "3pWq2fardILN"
      }
    },
    {
      "cell_type": "code",
      "execution_count": 187,
      "metadata": {
        "id": "s-4iLvTCSRXf"
      },
      "outputs": [],
      "source": [
        "import numpy as np\n",
        "import matplotlib.pyplot as plt\n",
        "\n",
        "# Parameters:\n",
        "# -------------------------------------------\n",
        "# Probability weighting (see below). The\n",
        "# larger the number this finer the weighting\n",
        "q = 5\n",
        "# Number of samples from the data array\n",
        "sample = 1000000\n",
        "#\n",
        "# For samples = 1000000 & q ~> 40, staticial\n",
        "# fluctionations flattern the chart\n",
        "# -------------------------------------------\n",
        "\n",
        "# Array to choose from (dice face)\n",
        "data = np.array([1,2,3,4,5,6 ])\n",
        "\n",
        "# Probability of selecting a specific element in the array.\n",
        "# Unfiar dice. Probablity of throwing a 3 is greater than any other number\n",
        "# Probability of sampling a 3 is (q+1)/(6q+1), for each of the rest it is q/(6q+1).\n",
        "\n",
        "d = 6*q+1\n",
        "\n",
        "prob = np.array([q/d,q/d,(q+1)/d,q/d,q/d,q/d])\n",
        "\n",
        "#prob = np.array([1/7,1/7,2/7,1/7,1/7,1/7])\n",
        "#prob = np.array([3/19,3/19,4/19,3/19,3/19,3/19])\n",
        "#prob = np.array([4/25,4/25,5/25,4/25,4/25,4/25])\n",
        "\n",
        "newData = np.random.choice(data,size=sample,p=prob)\n",
        "\n",
        "#newData = np.random.randint(1,7,sample)\n",
        "#newData = np.random.randint(1,7,sample,int)\n"
      ]
    },
    {
      "cell_type": "code",
      "source": [
        "print(prob)\n",
        "print(data)\n",
        "print(newData)"
      ],
      "metadata": {
        "id": "BRqGLVHHw5mV"
      },
      "execution_count": null,
      "outputs": []
    },
    {
      "cell_type": "code",
      "source": [
        "plt.bar(*np.unique(data, return_counts=True))\n",
        "plt.show()"
      ],
      "metadata": {
        "id": "bIQSYjoZJPTW"
      },
      "execution_count": null,
      "outputs": []
    },
    {
      "cell_type": "code",
      "source": [
        "plt.bar(*np.unique(newData, return_counts=True))\n",
        "plt.show()"
      ],
      "metadata": {
        "id": "AZP-JvIXxCp3"
      },
      "execution_count": null,
      "outputs": []
    },
    {
      "cell_type": "markdown",
      "source": [
        "# Example of Higgs Type Data"
      ],
      "metadata": {
        "id": "xDdnr9ylc-cd"
      }
    },
    {
      "cell_type": "code",
      "source": [
        "import numpy as np\n",
        "import matplotlib.pyplot as plt\n",
        "\n",
        "sample = 1000000\n",
        "size = 60\n",
        "# for a range \"size\" of 60, n = 1830\n",
        "n = 0.5*(size*(size+1))\n",
        "\n",
        "# Uniform Array to choose from\n",
        "data = np.array([],dtype=np.int8)\n",
        "for i in range(size+1,1,-1):\n",
        "  arrayElement = i\n",
        "  data=np.insert(data,0,arrayElement )\n",
        "\n",
        "# Probability data array. Probability decreasing\n",
        "prob = np.array([],dtype=np.float32)\n",
        "for i in range(1,size+1):\n",
        "  arrayElement = i/n\n",
        "  prob = np.insert(prob,0,arrayElement )\n",
        "\n",
        "# Higgs Boson creation between 29 and 31\n",
        "prob[29] = prob[30] + 0.003\n",
        "prob[30] = prob[30] + 0.002\n",
        "prob[31] = prob[30] + 0.001\n",
        "\n",
        "# Normalise\n",
        "prob /= prob.sum()\n",
        "\n",
        "newData = np.random.choice(data,size=sample,p=prob)\n"
      ],
      "metadata": {
        "id": "iskm3j2_M-E1"
      },
      "execution_count": 194,
      "outputs": []
    },
    {
      "cell_type": "code",
      "source": [
        "print(prob)\n",
        "print(data)\n",
        "print(newData)\n",
        "print(n)"
      ],
      "metadata": {
        "id": "ri84WIK3YcMa"
      },
      "execution_count": null,
      "outputs": []
    },
    {
      "cell_type": "code",
      "source": [
        "plt.bar(*np.unique(data, return_counts=True))\n",
        "plt.show()"
      ],
      "metadata": {
        "id": "RFaOomPPGVqy"
      },
      "execution_count": null,
      "outputs": []
    },
    {
      "cell_type": "code",
      "source": [
        "plt.bar(*np.unique(newData, return_counts=True))\n",
        "plt.show()"
      ],
      "metadata": {
        "id": "raudDhCbaLEA"
      },
      "execution_count": null,
      "outputs": []
    }
  ]
}