{
  "nbformat": 4,
  "nbformat_minor": 0,
  "metadata": {
    "colab": {
      "provenance": [],
      "authorship_tag": "ABX9TyO69adCCvuH7XM2j1cXUJWK",
      "include_colab_link": true
    },
    "kernelspec": {
      "name": "ir",
      "display_name": "R"
    },
    "language_info": {
      "name": "R"
    }
  },
  "cells": [
    {
      "cell_type": "markdown",
      "metadata": {
        "id": "view-in-github",
        "colab_type": "text"
      },
      "source": [
        "<a href=\"https://colab.research.google.com/github/WillRWhite/Colab/blob/main/R-Example.ipynb\" target=\"_parent\"><img src=\"https://colab.research.google.com/assets/colab-badge.svg\" alt=\"Open In Colab\"/></a>"
      ]
    },
    {
      "cell_type": "code",
      "execution_count": null,
      "metadata": {
        "id": "_aoegrYtJEP6"
      },
      "outputs": [],
      "source": [
        "require(datasets)\n",
        "\n",
        "require(grDevices); require(graphics)\n",
        "x <- stats::rnorm(50)\n",
        "opar <- par(bg = \"white\")\n",
        "plot(x, ann = FALSE, type = \"n\")\n",
        "\n",
        "abline(h = 0, col = gray(.90))\n",
        "\n",
        "lines(x, col = \"green4\", lty = \"dotted\")\n",
        "\n",
        "points(x, bg = \"limegreen\", pch = 21)\n",
        "\n",
        "title(main = \"Simple Use of Color In a Plot\", xlab = \"Just a Whisper of a Label\", col.main = \"blue\", col.lab = gray(.8), cex.main = 1.2, cex.lab = 1.0, font.main = 4, font.lab = 3)\n",
        "\n",
        "## A little color wheel.       This code just plots equally spaced hues in\n",
        "## a pie chart.       If you have a cheap SVGA monitor (like me) you will\n",
        "## probably find that numerically equispaced does not mean visually\n",
        "## equispaced.  On my display at home, these colors tend to cluster at\n",
        "## the RGB primaries.  On the other hand on the SGI Indy at work the\n",
        "## effect is near perfect.\n",
        "\n",
        "par(bg = \"gray\")\n",
        "\n",
        "pie(rep(1,24), col = rainbow(24), radius = 0.9)\n",
        "\n"
      ]
    }
  ]
}