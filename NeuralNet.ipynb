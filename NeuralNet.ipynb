{
  "nbformat": 4,
  "nbformat_minor": 0,
  "metadata": {
    "colab": {
      "provenance": [],
      "authorship_tag": "ABX9TyMRFZtJMakc3iaYS6JgexLE",
      "include_colab_link": true
    },
    "kernelspec": {
      "name": "python3",
      "display_name": "Python 3"
    },
    "language_info": {
      "name": "python"
    }
  },
  "cells": [
    {
      "cell_type": "markdown",
      "metadata": {
        "id": "view-in-github",
        "colab_type": "text"
      },
      "source": [
        "<a href=\"https://colab.research.google.com/github/WillRWhite/Colab/blob/main/NeuralNet.ipynb\" target=\"_parent\"><img src=\"https://colab.research.google.com/assets/colab-badge.svg\" alt=\"Open In Colab\"/></a>"
      ]
    },
    {
      "cell_type": "code",
      "execution_count": 11,
      "metadata": {
        "colab": {
          "base_uri": "https://localhost:8080/"
        },
        "id": "X8CXUO6WeszX",
        "outputId": "f0866b6d-912b-4372-d54a-5f634a23e446"
      },
      "outputs": [
        {
          "output_type": "stream",
          "name": "stdout",
          "text": [
            "Input size = 784\n",
            "layer1 Outputs = [ -7.25302787  -3.27979898   9.7934285   -2.56119676   1.289139\n",
            "   4.09506222   5.96336792  20.15447811  14.42419057   7.33258004\n",
            "  -3.82194757 -10.91968105 -41.03409448 -12.32540761  15.69517353\n",
            "   8.91503947]\n",
            "Input size = 16\n",
            "layer2 Outputs = [-60.55524101  28.04361829  44.01701781  -4.84781205  47.2154645\n",
            " -17.19432531 -39.93393479  33.0756084  -30.93203092  -5.71040077]\n"
          ]
        }
      ],
      "source": [
        "import numpy as np\n",
        "\n",
        "class NetLayer:\n",
        "\n",
        "    # The instance_count class variable will be incremented in __init__ each time the class is instasnciated\n",
        "    instance_count = 0\n",
        "\n",
        "    def __init__(self,inputs, out_len):\n",
        "        # Increment the instance_count each time NetLayer is instanciated\n",
        "        NetLayer.instance_count += 1\n",
        "\n",
        "        self.inputs = inputs\n",
        "        input_len = np.size(inputs)\n",
        "        print(\"Input size =\", input_len)\n",
        "        self.weights = np.random.uniform(-1, 1, (input_len, out_len))\n",
        "        self.bias = np.random.uniform(-1, 1, out_len)\n",
        "        if out_len > input_len:\n",
        "            print(\"NetLayer instance\",NetLayer.instance_count,\":- Warning more outputs(\" + str(out_len) + \") then inputs(\" + str(input_len) + \")\")\n",
        "        #print(\"Weights =\", self.weights)\n",
        "\n",
        "    def forward(self):\n",
        "        outputs = np.matmul(self.inputs, self.weights) + self.bias\n",
        "        return outputs\n",
        "\n",
        "\n",
        "#inputs = np.array([1,2,3,4])\n",
        "#inputs = np.array([1,2,3,4,5,6,7, 8, 9])\n",
        "#inputs = np.random.randint(0,255,784)\n",
        "inputs = np.random.uniform(0,1,784)\n",
        "#print(\"Inputs=\", inputs)\n",
        "\n",
        "layer1 = NetLayer(inputs, 16)\n",
        "\n",
        "# The following two lines do exactly the same thing\n",
        "layer1_out = layer1.forward()\n",
        "#layer1_out = NetLayer.forward(layer1)\n",
        "\n",
        "print(\"layer1 Outputs =\", layer1_out )\n",
        "\n",
        "layer2 = NetLayer(layer1_out, 10 )\n",
        "\n",
        "# The following two lines do exactly the same thing\n",
        "layer2_out = layer2.forward()\n",
        "#layer2_out = NetLayer.forward(layer2)\n",
        "\n",
        "print(\"layer2 Outputs =\", layer2_out )\n",
        "\n",
        "#layer3 = NetLayer(layer2_out, 2)\n",
        "#layer3_out = layer3.forward()\n",
        "#print(\"layer3 Outputs =\", layer3_out )"
      ]
    }
  ]
}