{
  "nbformat": 4,
  "nbformat_minor": 0,
  "metadata": {
    "colab": {
      "provenance": [],
      "authorship_tag": "ABX9TyOPNwK2TXz/ABexVydJ72xN",
      "include_colab_link": true
    },
    "kernelspec": {
      "name": "python3",
      "display_name": "Python 3"
    },
    "language_info": {
      "name": "python"
    }
  },
  "cells": [
    {
      "cell_type": "markdown",
      "metadata": {
        "id": "view-in-github",
        "colab_type": "text"
      },
      "source": [
        "<a href=\"https://colab.research.google.com/github/WillRWhite/Colab/blob/main/NeuralNet.ipynb\" target=\"_parent\"><img src=\"https://colab.research.google.com/assets/colab-badge.svg\" alt=\"Open In Colab\"/></a>"
      ]
    },
    {
      "cell_type": "code",
      "execution_count": 1,
      "metadata": {
        "colab": {
          "base_uri": "https://localhost:8080/"
        },
        "id": "X8CXUO6WeszX",
        "outputId": "2ecc0b23-9fda-4674-969c-27d6ccdc0b4f"
      },
      "outputs": [
        {
          "output_type": "stream",
          "name": "stdout",
          "text": [
            "Input size = 784\n",
            "Weights = [[-0.71550596  0.8570774   0.2227849  ... -0.45309995  0.69679777\n",
            "   0.55839782]\n",
            " [-0.12063205 -0.79149843  0.80875101 ...  0.87106946  0.35063123\n",
            "   0.76735429]\n",
            " [ 0.19256337 -0.17413391 -0.45325534 ... -0.81929668  0.05205428\n",
            "   0.62257882]\n",
            " ...\n",
            " [ 0.99052379  0.10151939 -0.40578724 ... -0.03929637  0.47594403\n",
            "   0.1588705 ]\n",
            " [-0.42583394 -0.83250052  0.74395309 ... -0.77226606 -0.46222645\n",
            "   0.10473874]\n",
            " [-0.79133096 -0.7646473  -0.04124878 ...  0.32746317  0.96486198\n",
            "   0.00374439]]\n",
            "layer1 Outputs = [-3698.31147739  1691.62002953  1394.19690614  1055.26886235\n",
            "  3231.78184251 -1361.81613325 -1446.49517094  1857.18910884\n",
            "   937.61193442 -2251.42109407  -857.40270512  3903.58872581\n",
            "  4335.76207609 -4297.27132113   462.97005008  -902.37430528]\n",
            "Input size = 16\n",
            "Weights = [[ 0.93530234 -0.07633227 -0.96750312  0.96891793 -0.31362436  0.93543434\n",
            "  -0.75473552 -0.84128817  0.54425371  0.22707194]\n",
            " [ 0.08883312  0.73780969 -0.50565966  0.69281003 -0.96876136  0.66990304\n",
            "   0.25547326 -0.93347427 -0.65389855  0.64158462]\n",
            " [-0.27013009 -0.57005192 -0.68448075 -0.04987663 -0.81344053  0.14518333\n",
            "   0.37794696  0.24725454 -0.57075114 -0.76292184]\n",
            " [-0.18338734 -0.01553517  0.13705646  0.40254538 -0.73690453  0.43465068\n",
            "   0.01807141 -0.03553696 -0.19286876 -0.41900249]\n",
            " [ 0.21013907  0.06047556  0.57751552 -0.76952353 -0.83088333  0.78046995\n",
            "  -0.34184499 -0.77328755  0.14951186 -0.11423663]\n",
            " [ 0.34637452 -0.40933358 -0.92047735  0.34452156 -0.00920226 -0.22303614\n",
            "  -0.92120947  0.58951879  0.39301105 -0.17750967]\n",
            " [ 0.09581373 -0.53901788  0.8481859  -0.63915666  0.77735052 -0.57778819\n",
            "  -0.75081188 -0.33868335  0.45018953 -0.07612005]\n",
            " [ 0.65105302 -0.06652852 -0.19991462  0.4199728  -0.56884712 -0.32069702\n",
            "  -0.52898892 -0.24756911  0.89851908  0.881604  ]\n",
            " [ 0.53554144 -0.39965082  0.33931784  0.97764813 -0.58056471 -0.85495952\n",
            "  -0.83536049  0.74915243 -0.94105239 -0.53511453]\n",
            " [-0.25417221  0.11956326 -0.59656251  0.15876435  0.24725495 -0.55349099\n",
            "  -0.31336224 -0.94200585 -0.96352548  0.0936544 ]\n",
            " [ 0.38648795 -0.05668725  0.39524705 -0.85672879 -0.25946506  0.76843377\n",
            "  -0.76202014 -0.46801301  0.98956493  0.77823641]\n",
            " [-0.20686629  0.36619859 -0.25701797 -0.05142214  0.47486066  0.38989457\n",
            "  -0.39817952 -0.71290059  0.24499114  0.9958593 ]\n",
            " [-0.24674281  0.79589284 -0.12051328 -0.02076948  0.9798579  -0.33992347\n",
            "  -0.3445402   0.07011088  0.87250183  0.20391281]\n",
            " [-0.12616637 -0.39173057  0.97209359  0.52567565 -0.85695449  0.35626888\n",
            "  -0.97065671 -0.2461701  -0.99484089  0.49371222]\n",
            " [ 0.62661029 -0.75364062  0.68373232 -0.07315368  0.68018078 -0.67887981\n",
            "   0.92431787 -0.05033227  0.02612668  0.6844493 ]\n",
            " [ 0.96579739  0.45850676 -0.76241401 -0.46429836 -0.71543003  0.10125233\n",
            "  -0.70796431 -0.89239713 -0.84136051 -0.3264823 ]]\n",
            "layer2 Outputs = [-3773.69662064  7334.65460051    58.83584787 -4179.44972641\n",
            "  2621.59306021  -702.49831051  6789.1714573   1153.4818647\n",
            "  7070.56572192  2241.80530616]\n"
          ]
        }
      ],
      "source": [
        "import numpy as np\n",
        "\n",
        "class NetLayer:\n",
        "\n",
        "    # The instance_count class variable will be incremented in __init__ each time the class is instasnciated\n",
        "    instance_count = 0\n",
        "\n",
        "    def __init__(self,inputs, out_len):\n",
        "        # Increment the instance_count each time NetLayer is instanciated\n",
        "        NetLayer.instance_count += 1\n",
        "\n",
        "        self.inputs = inputs\n",
        "        input_len = np.size(inputs)\n",
        "        print(\"Input size =\", input_len)\n",
        "        self.weights = np.random.uniform(-1, 1, (input_len, out_len))\n",
        "        self.bias = np.random.uniform(-1, 1, out_len)\n",
        "        if out_len > input_len:\n",
        "            #print(f\"{self.__class__.__name__} has been called by instance{NetLayer.instance_count}\")\n",
        "            print(\"NetLayer instance\",NetLayer.instance_count,\":- Warning more outputs(\" + str(out_len) + \") then inputs(\" + str(input_len) + \")\")\n",
        "        print(\"Weights =\", self.weights)\n",
        "\n",
        "    def forward(self):\n",
        "        outputs = np.matmul(self.inputs, self.weights) + self.bias\n",
        "        return outputs\n",
        "\n",
        "\n",
        "#inputs = np.array([1,2,3,4])\n",
        "#inputs = np.array([1,2,3,4,5,6,7, 8, 9])\n",
        "inputs = np.random.randint(0,255,784)\n",
        "#print(\"Inputs=\", inputs)\n",
        "\n",
        "layer1 = NetLayer(inputs, 16)\n",
        "layer1_out = layer1.forward()\n",
        "print(\"layer1 Outputs =\", layer1_out )\n",
        "\n",
        "layer2 = NetLayer(layer1_out, 10 )\n",
        "layer2_out = layer2.forward()\n",
        "print(\"layer2 Outputs =\", layer2_out )\n",
        "\n",
        "#layer3 = NetLayer(layer2_out, 2)\n",
        "#layer3_out = layer3.forward()\n",
        "#print(\"layer3 Outputs =\", layer3_out )"
      ]
    }
  ]
}