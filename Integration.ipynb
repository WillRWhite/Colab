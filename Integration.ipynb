{
  "nbformat": 4,
  "nbformat_minor": 0,
  "metadata": {
    "colab": {
      "provenance": [],
      "authorship_tag": "ABX9TyOse1070vNUcNkA3YZxrQDl",
      "include_colab_link": true
    },
    "kernelspec": {
      "name": "python3",
      "display_name": "Python 3"
    },
    "language_info": {
      "name": "python"
    }
  },
  "cells": [
    {
      "cell_type": "markdown",
      "metadata": {
        "id": "view-in-github",
        "colab_type": "text"
      },
      "source": [
        "<a href=\"https://colab.research.google.com/github/WillRWhite/Colab/blob/main/Integration.ipynb\" target=\"_parent\"><img src=\"https://colab.research.google.com/assets/colab-badge.svg\" alt=\"Open In Colab\"/></a>"
      ]
    },
    {
      "cell_type": "markdown",
      "source": [
        "# Riemann integral\n",
        "\n",
        "This Python program integrates the function f(x) over the interval [a,b] using the Riemann Integral\n",
        "\n",
        "First import the maths function and create a Python function defining the function to integrate"
      ],
      "metadata": {
        "id": "YNef-9iAFonx"
      }
    },
    {
      "cell_type": "code",
      "execution_count": null,
      "metadata": {
        "id": "QNsbG-iyCxvc"
      },
      "outputs": [],
      "source": [
        "import math\n",
        "\n",
        "def f(x):\n",
        "    return ( math.sin(x) + 0.05*(x**2) )\n",
        "\n"
      ]
    },
    {
      "cell_type": "markdown",
      "source": [
        "Because this is a Riemann integral we need to define the actual value of the differential dx"
      ],
      "metadata": {
        "id": "7BjGaETeHu6x"
      }
    },
    {
      "cell_type": "code",
      "source": [
        "dx = 0.1 # 0.000001 is a good value\n"
      ],
      "metadata": {
        "id": "__ekJGvzIDTL"
      },
      "execution_count": null,
      "outputs": []
    },
    {
      "cell_type": "markdown",
      "source": [
        "...and of course the interval for the integration"
      ],
      "metadata": {
        "id": "JpqHe7V1PRv9"
      }
    },
    {
      "cell_type": "code",
      "source": [
        "a = -5.3 # Lower bound -5.3\n",
        "b = 7.8 # Upper bound 7.8"
      ],
      "metadata": {
        "id": "aIwMqA1ePTKK"
      },
      "execution_count": null,
      "outputs": []
    },
    {
      "cell_type": "markdown",
      "source": [
        "Now we perform the Riemann integral\n",
        "\n",
        "https://en.wikipedia.org/wiki/Riemann_integral\n",
        "https://en.wikipedia.org/wiki/Darboux_integral#:~:text=For%20any%20given%20partition%2C%20the,and%20height%20sup(f).\n",
        "https://en.wikipedia.org/wiki/Integral"
      ],
      "metadata": {
        "id": "UTKIHngdHA3c"
      }
    },
    {
      "cell_type": "code",
      "source": [
        "x = a + dx/2\n",
        "area = 0\n",
        "while (x <= b):\n",
        "    area = area + f(x)*dx\n",
        "    x = x + dx\n",
        "\n",
        "print(area)"
      ],
      "metadata": {
        "id": "OoDKQQIVHQHn"
      },
      "execution_count": null,
      "outputs": []
    }
  ]
}