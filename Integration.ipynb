{
  "nbformat": 4,
  "nbformat_minor": 0,
  "metadata": {
    "colab": {
      "provenance": [],
      "toc_visible": true,
      "authorship_tag": "ABX9TyPyWr/UwMMSFp+mDQy82mhm",
      "include_colab_link": true
    },
    "kernelspec": {
      "name": "python3",
      "display_name": "Python 3"
    },
    "language_info": {
      "name": "python"
    }
  },
  "cells": [
    {
      "cell_type": "markdown",
      "metadata": {
        "id": "view-in-github",
        "colab_type": "text"
      },
      "source": [
        "<a href=\"https://colab.research.google.com/github/WillRWhite/Colab/blob/main/Integration.ipynb\" target=\"_parent\"><img src=\"https://colab.research.google.com/assets/colab-badge.svg\" alt=\"Open In Colab\"/></a>"
      ]
    },
    {
      "cell_type": "markdown",
      "source": [
        "# Riemann integral\n",
        "\n",
        "This Python program integrates the function f(x) over the interval [a,b] using the Riemann Integral.\n"
      ],
      "metadata": {
        "id": "YNef-9iAFonx"
      }
    },
    {
      "cell_type": "markdown",
      "source": [
        "First import the Python math library and then create a Python function defining the function to integrate."
      ],
      "metadata": {
        "id": "7m9J0esM8aLp"
      }
    },
    {
      "cell_type": "markdown",
      "source": [],
      "metadata": {
        "id": "JF9lE0UzCpoX"
      }
    },
    {
      "cell_type": "code",
      "execution_count": null,
      "metadata": {
        "id": "QNsbG-iyCxvc"
      },
      "outputs": [],
      "source": [
        "import math\n"
      ]
    },
    {
      "cell_type": "markdown",
      "source": [
        "Define the function to integrate \"f(x)\".\n",
        "\n",
        "There are a selection below, so only execute the one you require. The integration will be performewd on the last funcrion definition which has been executed."
      ],
      "metadata": {
        "id": "imS4boOqypHy"
      }
    },
    {
      "cell_type": "code",
      "source": [
        "def f(x):\n",
        "  return (math.sin(x))"
      ],
      "metadata": {
        "id": "igBXTT2642l5"
      },
      "execution_count": null,
      "outputs": []
    },
    {
      "cell_type": "code",
      "source": [
        "def f(x):\n",
        "    return ( math.sin(x) + 0.05*(x**2) )"
      ],
      "metadata": {
        "id": "oMDtZHAuzGyn"
      },
      "execution_count": null,
      "outputs": []
    },
    {
      "cell_type": "code",
      "source": [
        "def f(x):\n",
        "  return (3)"
      ],
      "metadata": {
        "id": "8-hXKen8yDKr"
      },
      "execution_count": null,
      "outputs": []
    },
    {
      "cell_type": "code",
      "source": [
        "def f(x):\n",
        "  return (x**2)"
      ],
      "metadata": {
        "id": "ghwnvPIv2Gtr"
      },
      "execution_count": null,
      "outputs": []
    },
    {
      "cell_type": "code",
      "source": [
        "def f(x):\n",
        "  return (x)"
      ],
      "metadata": {
        "id": "CaCb72fxzMk2"
      },
      "execution_count": null,
      "outputs": []
    },
    {
      "cell_type": "markdown",
      "source": [
        "Because this is a Riemann integral we need to define the actual value of the differential dx.[link text](https://)"
      ],
      "metadata": {
        "id": "7BjGaETeHu6x"
      }
    },
    {
      "cell_type": "code",
      "source": [
        "dx = 0.001 # 0.000001 is a good value\n"
      ],
      "metadata": {
        "id": "__ekJGvzIDTL"
      },
      "execution_count": null,
      "outputs": []
    },
    {
      "cell_type": "markdown",
      "source": [
        "...and of course the interval for the integration."
      ],
      "metadata": {
        "id": "JpqHe7V1PRv9"
      }
    },
    {
      "cell_type": "code",
      "source": [
        "a = 0 # Lower bound -5.3\n",
        "b = 3 # Upper bound 7.8"
      ],
      "metadata": {
        "id": "aIwMqA1ePTKK"
      },
      "execution_count": null,
      "outputs": []
    },
    {
      "cell_type": "markdown",
      "source": [
        "Now we perform the Riemann integral. This will be performed on the last \"def f(x)\" which has bee executed.\n",
        "\n",
        "https://en.wikipedia.org/wiki/Riemann_integral\n",
        "https://en.wikipedia.org/wiki/Darboux_integral#:~:text=For%20any%20given%20partition%2C%20the,and%20height%20sup(f).\n",
        "https://en.wikipedia.org/wiki/Integral"
      ],
      "metadata": {
        "id": "UTKIHngdHA3c"
      }
    },
    {
      "cell_type": "code",
      "source": [
        "# The following code will simply confirm what function is being integrated\n",
        "import inspect\n",
        "code, line_no = inspect.getsourcelines(f)\n",
        "print(\"The function to be integrated is:\")\n",
        "print(''.join(code))\n",
        "\n",
        "# This is the Riemann integral algorithm\n",
        "x = a + dx/2\n",
        "area = 0\n",
        "while (x <= b):\n",
        "    area = area + f(x)*dx\n",
        "    x = x + dx\n",
        "print(\"The result of the integration of f(x) over the interval [{}, {}] is: {}.\" .format(a, b, area))\n",
        "print(\"End of computation.\")"
      ],
      "metadata": {
        "id": "OoDKQQIVHQHn"
      },
      "execution_count": null,
      "outputs": []
    }
  ]
}