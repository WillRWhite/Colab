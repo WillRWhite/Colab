{
  "nbformat": 4,
  "nbformat_minor": 0,
  "metadata": {
    "colab": {
      "provenance": [],
      "authorship_tag": "ABX9TyM0umArQsELVNP2EVuBPZRH",
      "include_colab_link": true
    },
    "kernelspec": {
      "name": "python3",
      "display_name": "Python 3"
    },
    "language_info": {
      "name": "python"
    }
  },
  "cells": [
    {
      "cell_type": "markdown",
      "metadata": {
        "id": "view-in-github",
        "colab_type": "text"
      },
      "source": [
        "<a href=\"https://colab.research.google.com/github/WillRWhite/Colab/blob/main/Tips-Tricks.ipynb\" target=\"_parent\"><img src=\"https://colab.research.google.com/assets/colab-badge.svg\" alt=\"Open In Colab\"/></a>"
      ]
    },
    {
      "cell_type": "markdown",
      "source": [
        "# Using Numpy for Vector/Matrix manipulation"
      ],
      "metadata": {
        "id": "QkWT5E2BiGW7"
      }
    },
    {
      "cell_type": "code",
      "execution_count": null,
      "metadata": {
        "id": "wyITy-E4ZY3O"
      },
      "outputs": [],
      "source": [
        "import numpy as np\n",
        "\n",
        "v = np.array([3,2])\n",
        "u = np.array([ [4],\n",
        "               [5]\n",
        "             ])\n",
        "\n",
        "\n",
        "print(np.matmul(v,u))\n",
        "print(np.dot(v,u))\n",
        "\n",
        "\n",
        "\n"
      ]
    },
    {
      "cell_type": "markdown",
      "source": [
        "# Experimenting with Classes"
      ],
      "metadata": {
        "id": "UiGjMU9MiXT9"
      }
    },
    {
      "cell_type": "code",
      "source": [
        "# CLASS DEFINITIONS\n",
        "\n",
        "class add1:\n",
        "\n",
        "  # Class attribute. Can be use in class methods using \"self\" eg \"self.FIVE\"\n",
        "  FIVE = 5\n",
        "\n",
        "  # When an object is instanciated, the object is initilised by the __init__ function\n",
        "  # Simular to a constructor but not a constructor\n",
        "  # https://www.programiz.com/article/python-self-why#google_vignette\n",
        "\n",
        "  def __init__(self,a):\n",
        "    self.a = a\n",
        "\n",
        "  def two(self, b):\n",
        "    self.b = b\n",
        "    return (self.a + b)\n",
        "\n",
        "  def three(self,b,c):\n",
        "   return (self.a+b+c)\n",
        "\n",
        "  def addToFIVE(self):\n",
        "    return (self.FIVE + self.a)\n",
        "\n",
        "# END CLASS DEFINITIONS\n",
        "\n",
        "# MAIN CODE BLOCK\n",
        "\n",
        "# Init ob1 with the parameter \"a\"\n",
        "ob1 = add1(2)\n",
        "\n",
        "# Assign the variable \"x\" to the \"two\" method which has two parameters. The\n",
        "# first parameter \"2\" is obtained from the object instanciation and the\n",
        "# second \"3\" is passed directly\n",
        "x = ob1.two(3)\n",
        "print(f\"x={x}, the same as ob1.two(3)={ob1.two(3)}\")\n",
        "\n",
        "# now print the attributes of the class and ob1\n",
        "print(f\"ob1.a={ob1.a}, the same as add1(2).{add1(2).a}\")\n",
        "\n",
        "ob2 = add1(4).two(5)\n",
        "\n",
        "# The following is valid for \"ob1\" but not for \"ob2\". Try replacing \"ob1\" with\n",
        "# \"ob2\" one at a time\n",
        "print(f\"ob1.FIVE={ob1.FIVE}, ob1.a={ob1.a} and ob1.b={ob1.b}\")\n",
        "\n",
        "print(add1(1).addToFIVE())\n"
      ],
      "metadata": {
        "id": "a8qtw_bEOWPw"
      },
      "execution_count": null,
      "outputs": []
    },
    {
      "cell_type": "code",
      "source": [
        "class add2:\n",
        "    def __init__(self,a,b):\n",
        "      self.a = a\n",
        "      self.b = b\n",
        "\n",
        "    def two(self):\n",
        "      return (self.a + self.b)\n",
        "\n",
        "class add3:\n",
        "    def __init__(self, a, b):\n",
        "      self.a = a\n",
        "      self.b = b\n",
        "\n",
        "    def two(self):\n",
        "      return (self.a + self.b)\n",
        "\n",
        "obj = add1(1)\n",
        "x= obj.two(3)\n",
        "\n",
        "x = add1(1).two(2)\n",
        "y = add1(2).three(3,4)\n",
        "\n",
        "v = add2(1,2).two()\n",
        "w = add2(1,2).two()\n",
        "# Below will not work\n",
        "#z = add2.two(1,2)\n",
        "\n",
        "z = add3(1,2)\n",
        "print(z.two())\n",
        "\n",
        "print(x)\n",
        "print(y)\n",
        "\n",
        "print(v)\n",
        "print(w)\n"
      ],
      "metadata": {
        "id": "qP2ixrrVjTpP"
      },
      "execution_count": null,
      "outputs": []
    },
    {
      "cell_type": "code",
      "source": [
        "\"\"\"\n",
        "u = np.array([  [3,4],\n",
        "                [5,6],\n",
        "                [5,6] ])\n",
        "\n",
        "new_v = np.array([ [3],\n",
        "                  [2]\n",
        "                 ])\n",
        "\n",
        "#print(u)\n",
        "#print(\"\")\n",
        "#print(v)\n",
        "#print(\"\")\n",
        "#print(u.T)\n",
        "#print(\"\")\n",
        "#print(v.T)\n",
        "#print(\"\")\n",
        "#print(np.dot(v,u.T))\n",
        "#print(\"\")\n",
        "#print(np.dot(u,v.T))\n",
        "#print(\"\")\n",
        "print(np.dot(u,v))\n",
        "print(\"\")\n",
        "print(np.dot(u,new_v))\n",
        "print(\"\")\n",
        "#print(new_v)\n",
        "\"\"\"\n"
      ],
      "metadata": {
        "id": "JzO8cBrsnCCQ"
      },
      "execution_count": null,
      "outputs": []
    }
  ]
}