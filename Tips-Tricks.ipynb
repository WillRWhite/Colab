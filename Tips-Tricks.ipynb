{
  "nbformat": 4,
  "nbformat_minor": 0,
  "metadata": {
    "colab": {
      "provenance": [],
      "authorship_tag": "ABX9TyNZYPDU/L3jeYCKBZJ8AmfF",
      "include_colab_link": true
    },
    "kernelspec": {
      "name": "python3",
      "display_name": "Python 3"
    },
    "language_info": {
      "name": "python"
    }
  },
  "cells": [
    {
      "cell_type": "markdown",
      "metadata": {
        "id": "view-in-github",
        "colab_type": "text"
      },
      "source": [
        "<a href=\"https://colab.research.google.com/github/WillRWhite/Colab/blob/main/Tips-Tricks.ipynb\" target=\"_parent\"><img src=\"https://colab.research.google.com/assets/colab-badge.svg\" alt=\"Open In Colab\"/></a>"
      ]
    },
    {
      "cell_type": "code",
      "execution_count": null,
      "metadata": {
        "id": "wyITy-E4ZY3O"
      },
      "outputs": [],
      "source": [
        "import numpy as np\n",
        "\n",
        "v = np.array([3,2])\n",
        "u = np.array([ [4],\n",
        "               [5]\n",
        "             ])\n",
        "\n",
        "\n",
        "print(np.matmul(v,u))\n",
        "print(np.dot(v,u))\n",
        "\n",
        "\n",
        "\n"
      ]
    },
    {
      "cell_type": "code",
      "source": [
        "class add1:\n",
        "\n",
        "  def __init__(self,a):\n",
        "    self.a = a\n",
        "\n",
        "  def two(self, b):\n",
        "    return (self.a + b)\n",
        "\n",
        "  def three(self,b,c):\n",
        "   return (self.a+b+c)\n",
        "\n",
        "class add2:\n",
        "    def __init__(self,a,b):\n",
        "      self.a = a\n",
        "      self.b = b\n",
        "\n",
        "    def two(self):\n",
        "      return (self.a + self.b)\n",
        "\n",
        "class add3:\n",
        "    def __init__(self, a, b):\n",
        "      self.a = a\n",
        "      self.b = b\n",
        "\n",
        "    def two(self):\n",
        "      return (self.a + self.b)\n",
        "\n",
        "obj = add1(1)\n",
        "x= obj.two(3)\n",
        "\n",
        "x = add1(1).two(2)\n",
        "y = add1(2).three(3,4)\n",
        "\n",
        "v = add2(1,2).two()\n",
        "w = add2(1,2).two()\n",
        "# Below will not work\n",
        "#z = add2.two(1,2)\n",
        "\n",
        "z = add3(1,2)\n",
        "print(z.two())\n",
        "\n",
        "print(x)\n",
        "print(y)\n",
        "\n",
        "print(v)\n",
        "print(w)\n"
      ],
      "metadata": {
        "colab": {
          "base_uri": "https://localhost:8080/"
        },
        "id": "a8qtw_bEOWPw",
        "outputId": "8ba5bd96-3f17-4196-cd53-addde789749c"
      },
      "execution_count": 60,
      "outputs": [
        {
          "output_type": "stream",
          "name": "stdout",
          "text": [
            "3\n",
            "3\n",
            "9\n",
            "3\n",
            "3\n"
          ]
        }
      ]
    },
    {
      "cell_type": "code",
      "source": [
        "\"\"\"\n",
        "u = np.array([  [3,4],\n",
        "                [5,6],\n",
        "                [5,6] ])\n",
        "\n",
        "new_v = np.array([ [3],\n",
        "                  [2]\n",
        "                 ])\n",
        "\n",
        "#print(u)\n",
        "#print(\"\")\n",
        "#print(v)\n",
        "#print(\"\")\n",
        "#print(u.T)\n",
        "#print(\"\")\n",
        "#print(v.T)\n",
        "#print(\"\")\n",
        "#print(np.dot(v,u.T))\n",
        "#print(\"\")\n",
        "#print(np.dot(u,v.T))\n",
        "#print(\"\")\n",
        "print(np.dot(u,v))\n",
        "print(\"\")\n",
        "print(np.dot(u,new_v))\n",
        "print(\"\")\n",
        "#print(new_v)\n",
        "\"\"\"\n"
      ],
      "metadata": {
        "id": "JzO8cBrsnCCQ"
      },
      "execution_count": null,
      "outputs": []
    }
  ]
}