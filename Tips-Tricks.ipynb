{
  "nbformat": 4,
  "nbformat_minor": 0,
  "metadata": {
    "colab": {
      "provenance": [],
      "authorship_tag": "ABX9TyNUO+BzLnMUk7QXiZ8HNxsM",
      "include_colab_link": true
    },
    "kernelspec": {
      "name": "python3",
      "display_name": "Python 3"
    },
    "language_info": {
      "name": "python"
    }
  },
  "cells": [
    {
      "cell_type": "markdown",
      "metadata": {
        "id": "view-in-github",
        "colab_type": "text"
      },
      "source": [
        "<a href=\"https://colab.research.google.com/github/WillRWhite/Colab/blob/main/Tips-Tricks.ipynb\" target=\"_parent\"><img src=\"https://colab.research.google.com/assets/colab-badge.svg\" alt=\"Open In Colab\"/></a>"
      ]
    },
    {
      "cell_type": "markdown",
      "source": [
        "# Experimenting with Classes"
      ],
      "metadata": {
        "id": "UiGjMU9MiXT9"
      }
    },
    {
      "cell_type": "code",
      "source": [
        "# CLASS DEFINITIONS\n",
        "\n",
        "class add1:\n",
        "\n",
        "  # Class attribute can be use in class methods using \"self\" eg \"self.FIVE\"\n",
        "  # Obviously these do not need to be passed when instanciating an object\n",
        "  # or simply calling the class.\n",
        "  FIVE = 5\n",
        "\n",
        "  # When an object is instanciated, the object is initilised by the __init__\n",
        "  # function (if it exists), simular to a constructor but is not a constructor\n",
        "  # https://www.programiz.com/article/python-self-why#google_vignette\n",
        "\n",
        "  def __init__(self,a):\n",
        "    self.a = a\n",
        "\n",
        "  def two(self, b):\n",
        "    self.b = b\n",
        "    # this method has access to \"self.a\" because the first \"self\" parameter is\n",
        "    # passed to it:\n",
        "    return (self.a + b)\n",
        "    # Note that both \"b\" and \"self.b\" are inscope for this method so could use\n",
        "    # either in the above \"return\"\n",
        "\n",
        "  def three(self,b,c):\n",
        "   return (self.a+b+c)\n",
        "\n",
        "  def addToFIVE(self):\n",
        "    return (self.FIVE + self.a)\n",
        "\n",
        "  def ClassPrint(a):\n",
        "    # No \"self\" parameter so \"a\" is available to the class only, not the object\n",
        "    print(f\"The ClassPrimt({x}) method assigns a to {x}\")\n",
        "\n",
        "  def ObjPrint(self, b):\n",
        "    self.b = b\n",
        "    # The \"self\" parameter ensures \"a\" is available to the object and class\n",
        "    print(f\"The ObjPrimt({self.b}) method assigns a to {self.b}\")\n",
        "\n",
        "\n",
        "# END CLASS DEFINITIONS\n",
        "\n",
        "# MAIN CODE BLOCK\n",
        "\n",
        "# Init ob1 with the parameter \"a\"\n",
        "ob1 = add1(2)\n",
        "\n",
        "# Assign the variable \"x\" to the \"two\" method which has two parameters. The\n",
        "# first parameter \"2\" is obtained from the object instanciation and the\n",
        "# second \"3\" is passed directly\n",
        "x = ob1.two(3)\n",
        "print(f\"x={x}, the same as ob1.two(3)={ob1.two(3)}\")\n",
        "\n",
        "\n",
        "# now print the attributes of the class and ob1\n",
        "print(f\"ob1.a={ob1.a}, the same as add1(2).{add1(2).a}\")\n",
        "\n",
        "ob2 = add1(4).two(5)\n",
        "\n",
        "# The following is valid for \"ob1\" but not for \"ob2\". Try replacing \"ob1\" with\n",
        "# \"ob2\" one at a time\n",
        "print(f\"Using object.method eg ob1.FIVE={ob1.FIVE}, ob1.a={ob1.a} and ob1.b={ob1.b}\")\n",
        "print(f\"Using class.method eg add1(1).addToFIVE()={add1(1).addToFIVE()}\")\n",
        "\n",
        "# Using the method ClassPrint() with the class works fine\n",
        "add1.ClassPrint(3)\n",
        "# Using the method ObjPrint() with the object works fine\n",
        "ob4 = add1(1).ObjPrint(7)\n",
        "# But the below approach does not work\n",
        "#ob4 = add1().ObjPrint(1,6)\n",
        "\n",
        "add1(1).ObjPrint(3)\n",
        "\n",
        "# However if you instanciate an object\n",
        "ob3 = add1(3)\n",
        "# Using the myPrint method give odd results\n",
        "#ob3.ClassPrint(3)\n"
      ],
      "metadata": {
        "id": "a8qtw_bEOWPw"
      },
      "execution_count": null,
      "outputs": []
    },
    {
      "cell_type": "markdown",
      "source": [
        "***Static vs instance methods***"
      ],
      "metadata": {
        "id": "QygyX5VPxq0o"
      }
    },
    {
      "cell_type": "code",
      "source": [
        "# CLASS DEFINITIONS\n",
        "\n",
        "class MyMethodClass:\n",
        "\n",
        "  pi = 3.12\n",
        "\n",
        "  # Static methods (no \"self\" argument); only call for an instance\n",
        "  # to avoid complete confusion\n",
        "  def add(a,b):\n",
        "    return a+b\n",
        "\n",
        "  def mult(a,b):\n",
        "    return a*b\n",
        "\n",
        "  def pow(a,e):\n",
        "    return a**e\n",
        "  # Instance method (includes self argument); only call from the class\n",
        "  # avoid complete confusion\n",
        "  def multPI(self,a):\n",
        "    return a*(self.pi)\n",
        "\n",
        "# END CLASS DEFINITION\n",
        "\n",
        "# MAIN CODE BLOCK\n",
        "\n",
        "a = 3\n",
        "b = 5\n",
        "\n",
        "mc = MyMethodClass()\n",
        "# Also try this\n",
        "#mc = MyMethodClass\n",
        "\n",
        "# Static method call\n",
        "print(MyMethodClass.add(a,b))\n",
        "print(MyMethodClass.mult(a,b))\n",
        "print(MyMethodClass.pow(a,b))\n",
        "\n",
        "# This will not work. It is an instance method called by a class\n",
        "#print(MyMethodClass.add(a,MyMethodClass.pi))\n",
        "\n",
        "# Instance method call\n",
        "print(mc.multPI(a))\n",
        "\n",
        "# You cannot call a static mothod from an instance\n",
        "#print(mc.add(a,b))\n",
        "#print(mc.mult(a,b))\n",
        "#print(mc.pow(a,b))\n",
        "#print(mc.add(a,mc.pi))\n",
        "print(mc.multPI(a))\n",
        "\n"
      ],
      "metadata": {
        "id": "Qc3_LRKogxxt"
      },
      "execution_count": null,
      "outputs": []
    },
    {
      "cell_type": "code",
      "source": [
        "class MyMethodClass:\n",
        "\n",
        "  pi = 3.12\n",
        "\n",
        "  def mult(a,b):\n",
        "    return a*b\n",
        "\n",
        "  def multPI(self,a):\n",
        "    return a*(self.pi)\n",
        "\n",
        "\n",
        "mc = MyMethodClass()\n",
        "# Try this and note that the second print statement still works\n",
        "# It sort of makes sense but slightly ambigious\n",
        "#mc = MyMethodClass\n",
        "\n",
        "MyMethodClass.mult(3,2)\n",
        "\n",
        "print(mc.multPI(3))\n",
        "print(mc.pi)"
      ],
      "metadata": {
        "id": "csj7syCep1fv"
      },
      "execution_count": null,
      "outputs": []
    },
    {
      "cell_type": "code",
      "source": [
        "class vehicle:\n",
        "\n",
        "  def __init__(self, owner, make, model, colour):\n",
        "    self.owner = owner\n",
        "    self.make = make\n",
        "    self.model = model\n",
        "    self.colour = colour\n",
        "\n",
        "  def __repr__(self):\n",
        "    return (f\"{self.make} {self.model}, colour {self.colour} created for {self.owner} at {hex(id(self))}\")\n",
        "\n",
        "  def ignition(self,start):\n",
        "    self.start = start\n",
        "    if self.start == 1:\n",
        "      print(f\"{self.owner}'s engine is running\")\n",
        "    else:\n",
        "      print(f\"{self.owner}'s engine is not runnung\")\n",
        "      return 0\n",
        "\n",
        "  def accelerate(self, acc):\n",
        "    if self.start == 1:\n",
        "      print(f\"{self.owner}'s care is accelerating at {acc}mph\")\n",
        "    else:\n",
        "      print(f\"{self.owner}'s Engine is off, {self.owner} is not accelerating\")\n",
        "\n",
        "\n",
        "WillsCar = vehicle(\"Will\", \"Ford\", \"Escort\", \"Red\")\n",
        "JoycesCar = vehicle(\"Joyce\", \"Ford\", \"Cortina\", \"Blue\")\n",
        "\n",
        "print(WillsCar)\n",
        "print(JoycesCar)\n",
        "\n",
        "WillsCar.ignition(1)\n",
        "JoycesCar.ignition(0)\n",
        "WillsCar.accelerate(60)\n",
        "JoycesCar.accelerate(60)"
      ],
      "metadata": {
        "id": "xDN-W_i653Ey"
      },
      "execution_count": null,
      "outputs": []
    },
    {
      "cell_type": "markdown",
      "source": [
        "# Using Numpy for Vector/Matrix manipulation"
      ],
      "metadata": {
        "id": "QkWT5E2BiGW7"
      }
    },
    {
      "cell_type": "code",
      "execution_count": null,
      "metadata": {
        "id": "wyITy-E4ZY3O"
      },
      "outputs": [],
      "source": [
        "import numpy as np\n",
        "\n",
        "v = np.array([3,2])\n",
        "u = np.array([ [4],\n",
        "               [5]\n",
        "             ])\n",
        "\n",
        "\n",
        "print(np.matmul(v,u))\n",
        "print(np.dot(v,u))\n",
        "\n",
        "\n",
        "\n"
      ]
    }
  ]
}